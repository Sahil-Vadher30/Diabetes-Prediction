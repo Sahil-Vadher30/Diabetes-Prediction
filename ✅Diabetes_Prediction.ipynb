{
 "cells": [
  {
   "cell_type": "code",
   "execution_count": 1,
   "id": "82a700d1",
   "metadata": {},
   "outputs": [],
   "source": [
    "import pandas as pd"
   ]
  },
  {
   "cell_type": "markdown",
   "id": "9f8f3ab9",
   "metadata": {},
   "source": [
    "### ► Collectiong the data:"
   ]
  },
  {
   "cell_type": "code",
   "execution_count": 2,
   "id": "617bc949",
   "metadata": {},
   "outputs": [
    {
     "data": {
      "text/html": [
       "<div>\n",
       "<style scoped>\n",
       "    .dataframe tbody tr th:only-of-type {\n",
       "        vertical-align: middle;\n",
       "    }\n",
       "\n",
       "    .dataframe tbody tr th {\n",
       "        vertical-align: top;\n",
       "    }\n",
       "\n",
       "    .dataframe thead th {\n",
       "        text-align: right;\n",
       "    }\n",
       "</style>\n",
       "<table border=\"1\" class=\"dataframe\">\n",
       "  <thead>\n",
       "    <tr style=\"text-align: right;\">\n",
       "      <th></th>\n",
       "      <th>Pregnancies</th>\n",
       "      <th>Glucose</th>\n",
       "      <th>BloodPressure</th>\n",
       "      <th>SkinThickness</th>\n",
       "      <th>Insulin</th>\n",
       "      <th>BMI</th>\n",
       "      <th>DiabetesPedigreeFunction</th>\n",
       "      <th>Age</th>\n",
       "      <th>Outcome</th>\n",
       "    </tr>\n",
       "  </thead>\n",
       "  <tbody>\n",
       "    <tr>\n",
       "      <th>0</th>\n",
       "      <td>6</td>\n",
       "      <td>148</td>\n",
       "      <td>72</td>\n",
       "      <td>35</td>\n",
       "      <td>0</td>\n",
       "      <td>33.6</td>\n",
       "      <td>0.627</td>\n",
       "      <td>50</td>\n",
       "      <td>1</td>\n",
       "    </tr>\n",
       "    <tr>\n",
       "      <th>1</th>\n",
       "      <td>1</td>\n",
       "      <td>85</td>\n",
       "      <td>66</td>\n",
       "      <td>29</td>\n",
       "      <td>0</td>\n",
       "      <td>26.6</td>\n",
       "      <td>0.351</td>\n",
       "      <td>31</td>\n",
       "      <td>0</td>\n",
       "    </tr>\n",
       "    <tr>\n",
       "      <th>2</th>\n",
       "      <td>8</td>\n",
       "      <td>183</td>\n",
       "      <td>64</td>\n",
       "      <td>0</td>\n",
       "      <td>0</td>\n",
       "      <td>23.3</td>\n",
       "      <td>0.672</td>\n",
       "      <td>32</td>\n",
       "      <td>1</td>\n",
       "    </tr>\n",
       "    <tr>\n",
       "      <th>3</th>\n",
       "      <td>1</td>\n",
       "      <td>89</td>\n",
       "      <td>66</td>\n",
       "      <td>23</td>\n",
       "      <td>94</td>\n",
       "      <td>28.1</td>\n",
       "      <td>0.167</td>\n",
       "      <td>21</td>\n",
       "      <td>0</td>\n",
       "    </tr>\n",
       "    <tr>\n",
       "      <th>4</th>\n",
       "      <td>0</td>\n",
       "      <td>137</td>\n",
       "      <td>40</td>\n",
       "      <td>35</td>\n",
       "      <td>168</td>\n",
       "      <td>43.1</td>\n",
       "      <td>2.288</td>\n",
       "      <td>33</td>\n",
       "      <td>1</td>\n",
       "    </tr>\n",
       "  </tbody>\n",
       "</table>\n",
       "</div>"
      ],
      "text/plain": [
       "   Pregnancies  Glucose  BloodPressure  SkinThickness  Insulin   BMI   \n",
       "0            6      148             72             35        0  33.6  \\\n",
       "1            1       85             66             29        0  26.6   \n",
       "2            8      183             64              0        0  23.3   \n",
       "3            1       89             66             23       94  28.1   \n",
       "4            0      137             40             35      168  43.1   \n",
       "\n",
       "   DiabetesPedigreeFunction  Age  Outcome  \n",
       "0                     0.627   50        1  \n",
       "1                     0.351   31        0  \n",
       "2                     0.672   32        1  \n",
       "3                     0.167   21        0  \n",
       "4                     2.288   33        1  "
      ]
     },
     "execution_count": 2,
     "metadata": {},
     "output_type": "execute_result"
    }
   ],
   "source": [
    "diabetes_dataset = pd.read_csv('diabetes.csv')\n",
    "diabetes_dataset.head()"
   ]
  },
  {
   "cell_type": "markdown",
   "id": "b664200c",
   "metadata": {},
   "source": [
    "### ► EDA (Exploratory Data Analysis):"
   ]
  },
  {
   "cell_type": "code",
   "execution_count": 3,
   "id": "e64445dd",
   "metadata": {},
   "outputs": [
    {
     "data": {
      "text/html": [
       "<div>\n",
       "<style scoped>\n",
       "    .dataframe tbody tr th:only-of-type {\n",
       "        vertical-align: middle;\n",
       "    }\n",
       "\n",
       "    .dataframe tbody tr th {\n",
       "        vertical-align: top;\n",
       "    }\n",
       "\n",
       "    .dataframe thead th {\n",
       "        text-align: right;\n",
       "    }\n",
       "</style>\n",
       "<table border=\"1\" class=\"dataframe\">\n",
       "  <thead>\n",
       "    <tr style=\"text-align: right;\">\n",
       "      <th></th>\n",
       "      <th>Pregnancies</th>\n",
       "      <th>Glucose</th>\n",
       "      <th>BloodPressure</th>\n",
       "      <th>SkinThickness</th>\n",
       "      <th>Insulin</th>\n",
       "      <th>BMI</th>\n",
       "      <th>DiabetesPedigreeFunction</th>\n",
       "      <th>Age</th>\n",
       "      <th>Outcome</th>\n",
       "    </tr>\n",
       "  </thead>\n",
       "  <tbody>\n",
       "    <tr>\n",
       "      <th>count</th>\n",
       "      <td>768.000000</td>\n",
       "      <td>768.000000</td>\n",
       "      <td>768.000000</td>\n",
       "      <td>768.000000</td>\n",
       "      <td>768.000000</td>\n",
       "      <td>768.000000</td>\n",
       "      <td>768.000000</td>\n",
       "      <td>768.000000</td>\n",
       "      <td>768.000000</td>\n",
       "    </tr>\n",
       "    <tr>\n",
       "      <th>mean</th>\n",
       "      <td>3.845052</td>\n",
       "      <td>120.894531</td>\n",
       "      <td>69.105469</td>\n",
       "      <td>20.536458</td>\n",
       "      <td>79.799479</td>\n",
       "      <td>31.992578</td>\n",
       "      <td>0.471876</td>\n",
       "      <td>33.240885</td>\n",
       "      <td>0.348958</td>\n",
       "    </tr>\n",
       "    <tr>\n",
       "      <th>std</th>\n",
       "      <td>3.369578</td>\n",
       "      <td>31.972618</td>\n",
       "      <td>19.355807</td>\n",
       "      <td>15.952218</td>\n",
       "      <td>115.244002</td>\n",
       "      <td>7.884160</td>\n",
       "      <td>0.331329</td>\n",
       "      <td>11.760232</td>\n",
       "      <td>0.476951</td>\n",
       "    </tr>\n",
       "    <tr>\n",
       "      <th>min</th>\n",
       "      <td>0.000000</td>\n",
       "      <td>0.000000</td>\n",
       "      <td>0.000000</td>\n",
       "      <td>0.000000</td>\n",
       "      <td>0.000000</td>\n",
       "      <td>0.000000</td>\n",
       "      <td>0.078000</td>\n",
       "      <td>21.000000</td>\n",
       "      <td>0.000000</td>\n",
       "    </tr>\n",
       "    <tr>\n",
       "      <th>25%</th>\n",
       "      <td>1.000000</td>\n",
       "      <td>99.000000</td>\n",
       "      <td>62.000000</td>\n",
       "      <td>0.000000</td>\n",
       "      <td>0.000000</td>\n",
       "      <td>27.300000</td>\n",
       "      <td>0.243750</td>\n",
       "      <td>24.000000</td>\n",
       "      <td>0.000000</td>\n",
       "    </tr>\n",
       "    <tr>\n",
       "      <th>50%</th>\n",
       "      <td>3.000000</td>\n",
       "      <td>117.000000</td>\n",
       "      <td>72.000000</td>\n",
       "      <td>23.000000</td>\n",
       "      <td>30.500000</td>\n",
       "      <td>32.000000</td>\n",
       "      <td>0.372500</td>\n",
       "      <td>29.000000</td>\n",
       "      <td>0.000000</td>\n",
       "    </tr>\n",
       "    <tr>\n",
       "      <th>75%</th>\n",
       "      <td>6.000000</td>\n",
       "      <td>140.250000</td>\n",
       "      <td>80.000000</td>\n",
       "      <td>32.000000</td>\n",
       "      <td>127.250000</td>\n",
       "      <td>36.600000</td>\n",
       "      <td>0.626250</td>\n",
       "      <td>41.000000</td>\n",
       "      <td>1.000000</td>\n",
       "    </tr>\n",
       "    <tr>\n",
       "      <th>max</th>\n",
       "      <td>17.000000</td>\n",
       "      <td>199.000000</td>\n",
       "      <td>122.000000</td>\n",
       "      <td>99.000000</td>\n",
       "      <td>846.000000</td>\n",
       "      <td>67.100000</td>\n",
       "      <td>2.420000</td>\n",
       "      <td>81.000000</td>\n",
       "      <td>1.000000</td>\n",
       "    </tr>\n",
       "  </tbody>\n",
       "</table>\n",
       "</div>"
      ],
      "text/plain": [
       "       Pregnancies     Glucose  BloodPressure  SkinThickness     Insulin   \n",
       "count   768.000000  768.000000     768.000000     768.000000  768.000000  \\\n",
       "mean      3.845052  120.894531      69.105469      20.536458   79.799479   \n",
       "std       3.369578   31.972618      19.355807      15.952218  115.244002   \n",
       "min       0.000000    0.000000       0.000000       0.000000    0.000000   \n",
       "25%       1.000000   99.000000      62.000000       0.000000    0.000000   \n",
       "50%       3.000000  117.000000      72.000000      23.000000   30.500000   \n",
       "75%       6.000000  140.250000      80.000000      32.000000  127.250000   \n",
       "max      17.000000  199.000000     122.000000      99.000000  846.000000   \n",
       "\n",
       "              BMI  DiabetesPedigreeFunction         Age     Outcome  \n",
       "count  768.000000                768.000000  768.000000  768.000000  \n",
       "mean    31.992578                  0.471876   33.240885    0.348958  \n",
       "std      7.884160                  0.331329   11.760232    0.476951  \n",
       "min      0.000000                  0.078000   21.000000    0.000000  \n",
       "25%     27.300000                  0.243750   24.000000    0.000000  \n",
       "50%     32.000000                  0.372500   29.000000    0.000000  \n",
       "75%     36.600000                  0.626250   41.000000    1.000000  \n",
       "max     67.100000                  2.420000   81.000000    1.000000  "
      ]
     },
     "execution_count": 3,
     "metadata": {},
     "output_type": "execute_result"
    }
   ],
   "source": [
    "# generating descriptive statistics.\n",
    "\n",
    "diabetes_dataset.describe()"
   ]
  },
  {
   "cell_type": "code",
   "execution_count": 4,
   "id": "4794291d",
   "metadata": {
    "scrolled": true
   },
   "outputs": [
    {
     "data": {
      "text/plain": [
       "Pregnancies                 0\n",
       "Glucose                     0\n",
       "BloodPressure               0\n",
       "SkinThickness               0\n",
       "Insulin                     0\n",
       "BMI                         0\n",
       "DiabetesPedigreeFunction    0\n",
       "Age                         0\n",
       "Outcome                     0\n",
       "dtype: int64"
      ]
     },
     "execution_count": 4,
     "metadata": {},
     "output_type": "execute_result"
    }
   ],
   "source": [
    "# checking if any column containg null values or not\n",
    "\n",
    "diabetes_dataset.isna().sum()"
   ]
  },
  {
   "cell_type": "code",
   "execution_count": 5,
   "id": "536a8be1",
   "metadata": {},
   "outputs": [
    {
     "data": {
      "text/html": [
       "<div>\n",
       "<style scoped>\n",
       "    .dataframe tbody tr th:only-of-type {\n",
       "        vertical-align: middle;\n",
       "    }\n",
       "\n",
       "    .dataframe tbody tr th {\n",
       "        vertical-align: top;\n",
       "    }\n",
       "\n",
       "    .dataframe thead th {\n",
       "        text-align: right;\n",
       "    }\n",
       "</style>\n",
       "<table border=\"1\" class=\"dataframe\">\n",
       "  <thead>\n",
       "    <tr style=\"text-align: right;\">\n",
       "      <th></th>\n",
       "      <th>Pregnancies</th>\n",
       "      <th>Glucose</th>\n",
       "      <th>BloodPressure</th>\n",
       "      <th>SkinThickness</th>\n",
       "      <th>Insulin</th>\n",
       "      <th>BMI</th>\n",
       "      <th>DiabetesPedigreeFunction</th>\n",
       "      <th>Age</th>\n",
       "      <th>Outcome</th>\n",
       "    </tr>\n",
       "  </thead>\n",
       "  <tbody>\n",
       "    <tr>\n",
       "      <th>Pregnancies</th>\n",
       "      <td>1.000000</td>\n",
       "      <td>0.129459</td>\n",
       "      <td>0.141282</td>\n",
       "      <td>-0.081672</td>\n",
       "      <td>-0.073535</td>\n",
       "      <td>0.017683</td>\n",
       "      <td>-0.033523</td>\n",
       "      <td>0.544341</td>\n",
       "      <td>0.221898</td>\n",
       "    </tr>\n",
       "    <tr>\n",
       "      <th>Glucose</th>\n",
       "      <td>0.129459</td>\n",
       "      <td>1.000000</td>\n",
       "      <td>0.152590</td>\n",
       "      <td>0.057328</td>\n",
       "      <td>0.331357</td>\n",
       "      <td>0.221071</td>\n",
       "      <td>0.137337</td>\n",
       "      <td>0.263514</td>\n",
       "      <td>0.466581</td>\n",
       "    </tr>\n",
       "    <tr>\n",
       "      <th>BloodPressure</th>\n",
       "      <td>0.141282</td>\n",
       "      <td>0.152590</td>\n",
       "      <td>1.000000</td>\n",
       "      <td>0.207371</td>\n",
       "      <td>0.088933</td>\n",
       "      <td>0.281805</td>\n",
       "      <td>0.041265</td>\n",
       "      <td>0.239528</td>\n",
       "      <td>0.065068</td>\n",
       "    </tr>\n",
       "    <tr>\n",
       "      <th>SkinThickness</th>\n",
       "      <td>-0.081672</td>\n",
       "      <td>0.057328</td>\n",
       "      <td>0.207371</td>\n",
       "      <td>1.000000</td>\n",
       "      <td>0.436783</td>\n",
       "      <td>0.392573</td>\n",
       "      <td>0.183928</td>\n",
       "      <td>-0.113970</td>\n",
       "      <td>0.074752</td>\n",
       "    </tr>\n",
       "    <tr>\n",
       "      <th>Insulin</th>\n",
       "      <td>-0.073535</td>\n",
       "      <td>0.331357</td>\n",
       "      <td>0.088933</td>\n",
       "      <td>0.436783</td>\n",
       "      <td>1.000000</td>\n",
       "      <td>0.197859</td>\n",
       "      <td>0.185071</td>\n",
       "      <td>-0.042163</td>\n",
       "      <td>0.130548</td>\n",
       "    </tr>\n",
       "    <tr>\n",
       "      <th>BMI</th>\n",
       "      <td>0.017683</td>\n",
       "      <td>0.221071</td>\n",
       "      <td>0.281805</td>\n",
       "      <td>0.392573</td>\n",
       "      <td>0.197859</td>\n",
       "      <td>1.000000</td>\n",
       "      <td>0.140647</td>\n",
       "      <td>0.036242</td>\n",
       "      <td>0.292695</td>\n",
       "    </tr>\n",
       "    <tr>\n",
       "      <th>DiabetesPedigreeFunction</th>\n",
       "      <td>-0.033523</td>\n",
       "      <td>0.137337</td>\n",
       "      <td>0.041265</td>\n",
       "      <td>0.183928</td>\n",
       "      <td>0.185071</td>\n",
       "      <td>0.140647</td>\n",
       "      <td>1.000000</td>\n",
       "      <td>0.033561</td>\n",
       "      <td>0.173844</td>\n",
       "    </tr>\n",
       "    <tr>\n",
       "      <th>Age</th>\n",
       "      <td>0.544341</td>\n",
       "      <td>0.263514</td>\n",
       "      <td>0.239528</td>\n",
       "      <td>-0.113970</td>\n",
       "      <td>-0.042163</td>\n",
       "      <td>0.036242</td>\n",
       "      <td>0.033561</td>\n",
       "      <td>1.000000</td>\n",
       "      <td>0.238356</td>\n",
       "    </tr>\n",
       "    <tr>\n",
       "      <th>Outcome</th>\n",
       "      <td>0.221898</td>\n",
       "      <td>0.466581</td>\n",
       "      <td>0.065068</td>\n",
       "      <td>0.074752</td>\n",
       "      <td>0.130548</td>\n",
       "      <td>0.292695</td>\n",
       "      <td>0.173844</td>\n",
       "      <td>0.238356</td>\n",
       "      <td>1.000000</td>\n",
       "    </tr>\n",
       "  </tbody>\n",
       "</table>\n",
       "</div>"
      ],
      "text/plain": [
       "                          Pregnancies   Glucose  BloodPressure  SkinThickness   \n",
       "Pregnancies                  1.000000  0.129459       0.141282      -0.081672  \\\n",
       "Glucose                      0.129459  1.000000       0.152590       0.057328   \n",
       "BloodPressure                0.141282  0.152590       1.000000       0.207371   \n",
       "SkinThickness               -0.081672  0.057328       0.207371       1.000000   \n",
       "Insulin                     -0.073535  0.331357       0.088933       0.436783   \n",
       "BMI                          0.017683  0.221071       0.281805       0.392573   \n",
       "DiabetesPedigreeFunction    -0.033523  0.137337       0.041265       0.183928   \n",
       "Age                          0.544341  0.263514       0.239528      -0.113970   \n",
       "Outcome                      0.221898  0.466581       0.065068       0.074752   \n",
       "\n",
       "                           Insulin       BMI  DiabetesPedigreeFunction   \n",
       "Pregnancies              -0.073535  0.017683                 -0.033523  \\\n",
       "Glucose                   0.331357  0.221071                  0.137337   \n",
       "BloodPressure             0.088933  0.281805                  0.041265   \n",
       "SkinThickness             0.436783  0.392573                  0.183928   \n",
       "Insulin                   1.000000  0.197859                  0.185071   \n",
       "BMI                       0.197859  1.000000                  0.140647   \n",
       "DiabetesPedigreeFunction  0.185071  0.140647                  1.000000   \n",
       "Age                      -0.042163  0.036242                  0.033561   \n",
       "Outcome                   0.130548  0.292695                  0.173844   \n",
       "\n",
       "                               Age   Outcome  \n",
       "Pregnancies               0.544341  0.221898  \n",
       "Glucose                   0.263514  0.466581  \n",
       "BloodPressure             0.239528  0.065068  \n",
       "SkinThickness            -0.113970  0.074752  \n",
       "Insulin                  -0.042163  0.130548  \n",
       "BMI                       0.036242  0.292695  \n",
       "DiabetesPedigreeFunction  0.033561  0.173844  \n",
       "Age                       1.000000  0.238356  \n",
       "Outcome                   0.238356  1.000000  "
      ]
     },
     "execution_count": 5,
     "metadata": {},
     "output_type": "execute_result"
    }
   ],
   "source": [
    "# computing pairwise correlation of columns\n",
    "\n",
    "diabetes_dataset.corr()"
   ]
  },
  {
   "cell_type": "markdown",
   "id": "252156a0",
   "metadata": {},
   "source": [
    "### ► Splitting the Dataset:"
   ]
  },
  {
   "cell_type": "code",
   "execution_count": 6,
   "id": "fbf137ad",
   "metadata": {},
   "outputs": [
    {
     "name": "stdout",
     "output_type": "stream",
     "text": [
      "(768, 8)\n",
      "(768,)\n"
     ]
    }
   ],
   "source": [
    "x = diabetes_dataset.drop(columns = 'Outcome', axis=1)\n",
    "y = diabetes_dataset['Outcome']\n",
    "\n",
    "print(x.shape)\n",
    "print(y.shape)"
   ]
  },
  {
   "cell_type": "code",
   "execution_count": 7,
   "id": "cef4d890",
   "metadata": {},
   "outputs": [],
   "source": [
    "from sklearn.model_selection import train_test_split\n",
    "\n",
    "# here 80% data is for traing and 20% data is for testing\n",
    "x_train,x_test,y_train,y_test = train_test_split(x,y, test_size=0.2)"
   ]
  },
  {
   "cell_type": "markdown",
   "id": "e1f22952",
   "metadata": {},
   "source": [
    "###  ► Choosing a Model:\n",
    "#### I used  the Linear Regression Model"
   ]
  },
  {
   "cell_type": "markdown",
   "id": "234f59f6",
   "metadata": {},
   "source": [
    "###  ► Training the Model"
   ]
  },
  {
   "cell_type": "code",
   "execution_count": 8,
   "id": "eef67435",
   "metadata": {},
   "outputs": [],
   "source": [
    "from sklearn.linear_model import LinearRegression\n",
    "\n",
    "lr = LinearRegression()\n",
    "model = lr.fit(x_train, y_train)"
   ]
  },
  {
   "cell_type": "markdown",
   "id": "e987df37",
   "metadata": {},
   "source": [
    "### ► Testing the Model"
   ]
  },
  {
   "cell_type": "code",
   "execution_count": 9,
   "id": "68e34f36",
   "metadata": {},
   "outputs": [],
   "source": [
    "y_pred = lr.predict(x_test)"
   ]
  },
  {
   "cell_type": "code",
   "execution_count": 10,
   "id": "eaa13de4",
   "metadata": {},
   "outputs": [
    {
     "name": "stdout",
     "output_type": "stream",
     "text": [
      "y_prediction:0.10466187755901668, y_test:0\n",
      "y_prediction:0.05256964871362113, y_test:0\n",
      "y_prediction:0.9865440027462791, y_test:1\n",
      "y_prediction:0.2154488126799956, y_test:0\n",
      "y_prediction:0.5469587339216675, y_test:0\n",
      "y_prediction:0.3372061707011731, y_test:0\n",
      "y_prediction:0.2302447518885664, y_test:0\n",
      "y_prediction:0.3384790542280822, y_test:0\n",
      "y_prediction:0.4373072934761002, y_test:0\n",
      "y_prediction:0.16547691380078566, y_test:1\n",
      "y_prediction:0.29647131675528016, y_test:1\n",
      "y_prediction:0.4121349282551243, y_test:0\n",
      "y_prediction:0.5016374233527925, y_test:0\n",
      "y_prediction:0.31189634789949694, y_test:0\n",
      "y_prediction:0.6185757173778081, y_test:1\n",
      "y_prediction:0.2665303605971774, y_test:1\n",
      "y_prediction:0.04635851095110799, y_test:0\n",
      "y_prediction:0.47962780703076446, y_test:0\n",
      "y_prediction:0.43355861241371296, y_test:0\n",
      "y_prediction:0.7149502589920309, y_test:1\n",
      "y_prediction:0.7389115504100159, y_test:1\n",
      "y_prediction:0.6324277510566372, y_test:1\n",
      "y_prediction:0.23637565521012327, y_test:0\n",
      "y_prediction:0.08986185386526047, y_test:1\n",
      "y_prediction:0.36555776303650944, y_test:0\n",
      "y_prediction:0.41716437924135596, y_test:1\n",
      "y_prediction:0.0022423486758726963, y_test:0\n",
      "y_prediction:0.1660196042386628, y_test:0\n",
      "y_prediction:0.24189022640694824, y_test:0\n",
      "y_prediction:0.6764175886723747, y_test:1\n",
      "y_prediction:0.19709642500431213, y_test:0\n",
      "y_prediction:0.207454005761609, y_test:1\n",
      "y_prediction:0.21775050339168978, y_test:0\n",
      "y_prediction:0.20661267373971182, y_test:0\n",
      "y_prediction:0.3721520833659375, y_test:0\n",
      "y_prediction:0.36444168305438085, y_test:0\n",
      "y_prediction:0.32504333347469094, y_test:0\n",
      "y_prediction:0.5382248880774148, y_test:1\n",
      "y_prediction:0.23728052658881582, y_test:0\n",
      "y_prediction:0.1376496287641672, y_test:0\n",
      "y_prediction:0.32786336142864814, y_test:0\n",
      "y_prediction:0.0009905542075542284, y_test:0\n",
      "y_prediction:0.9653421954376002, y_test:0\n",
      "y_prediction:0.4036150447641256, y_test:1\n",
      "y_prediction:0.15250377033306872, y_test:0\n",
      "y_prediction:0.13897724465512906, y_test:0\n",
      "y_prediction:0.0697368800875976, y_test:0\n",
      "y_prediction:0.4249305160732635, y_test:0\n",
      "y_prediction:0.667208738346478, y_test:1\n",
      "y_prediction:0.3388884538246937, y_test:1\n",
      "y_prediction:0.4323674367928749, y_test:0\n",
      "y_prediction:0.5093783122832596, y_test:1\n",
      "y_prediction:0.6147283603542941, y_test:1\n",
      "y_prediction:0.17558448151025852, y_test:0\n",
      "y_prediction:0.14867606143301637, y_test:0\n",
      "y_prediction:0.0051611546904482, y_test:0\n",
      "y_prediction:0.25206058848257884, y_test:0\n",
      "y_prediction:0.8275785001917995, y_test:1\n",
      "y_prediction:0.7256977075446818, y_test:0\n",
      "y_prediction:0.0661851593161199, y_test:0\n",
      "y_prediction:-0.039812745596842225, y_test:0\n",
      "y_prediction:0.2076766769672611, y_test:0\n",
      "y_prediction:0.3577699407206223, y_test:0\n",
      "y_prediction:0.5078638414598027, y_test:0\n",
      "y_prediction:0.39308103394528393, y_test:0\n",
      "y_prediction:0.4814609478088787, y_test:1\n",
      "y_prediction:0.5424294649093611, y_test:1\n",
      "y_prediction:0.17406596164819788, y_test:0\n",
      "y_prediction:0.09188709315162735, y_test:0\n",
      "y_prediction:0.8843848758888875, y_test:1\n",
      "y_prediction:0.46132645486377655, y_test:1\n",
      "y_prediction:0.686808906269426, y_test:1\n",
      "y_prediction:0.24851453671778345, y_test:1\n",
      "y_prediction:0.33162489931889105, y_test:0\n",
      "y_prediction:0.31446523730152265, y_test:0\n",
      "y_prediction:0.2278031758085004, y_test:0\n",
      "y_prediction:0.4912729508027065, y_test:1\n",
      "y_prediction:-0.016036731851459707, y_test:0\n",
      "y_prediction:0.4146756719418889, y_test:0\n",
      "y_prediction:0.02772096662856749, y_test:0\n",
      "y_prediction:0.45190099408313755, y_test:1\n",
      "y_prediction:0.2518962403415639, y_test:1\n",
      "y_prediction:0.3698274999865001, y_test:0\n",
      "y_prediction:0.8497879199424121, y_test:1\n",
      "y_prediction:0.7856549888204585, y_test:1\n",
      "y_prediction:0.5109156755567064, y_test:0\n",
      "y_prediction:0.30994929057598597, y_test:0\n",
      "y_prediction:0.32957824953566917, y_test:0\n",
      "y_prediction:0.03729613288400735, y_test:0\n",
      "y_prediction:0.5554404954474315, y_test:1\n",
      "y_prediction:0.5902892224029632, y_test:0\n",
      "y_prediction:0.7436913480575094, y_test:1\n",
      "y_prediction:0.2262529342423829, y_test:0\n",
      "y_prediction:0.5905342853187712, y_test:1\n",
      "y_prediction:-0.17878373004517034, y_test:0\n",
      "y_prediction:0.44423862634150857, y_test:0\n",
      "y_prediction:0.7386739431220763, y_test:1\n",
      "y_prediction:0.09531716371722787, y_test:0\n",
      "y_prediction:0.1025904214602208, y_test:0\n",
      "y_prediction:0.3345023226732917, y_test:0\n",
      "y_prediction:0.4461517606720382, y_test:1\n",
      "y_prediction:0.12432038711674487, y_test:1\n",
      "y_prediction:0.48431129511905135, y_test:0\n",
      "y_prediction:0.42354237004282114, y_test:1\n",
      "y_prediction:0.14277237067459358, y_test:0\n",
      "y_prediction:0.6569820968294016, y_test:0\n",
      "y_prediction:0.7731506281558551, y_test:1\n",
      "y_prediction:0.16078750480079806, y_test:0\n",
      "y_prediction:0.5147085673540968, y_test:0\n",
      "y_prediction:0.17549346618323058, y_test:0\n",
      "y_prediction:0.3340446906200052, y_test:0\n",
      "y_prediction:0.5212343109971451, y_test:0\n",
      "y_prediction:0.6715573307015075, y_test:1\n",
      "y_prediction:0.2773349019659883, y_test:0\n",
      "y_prediction:0.5160242025718125, y_test:1\n",
      "y_prediction:0.009169798670766949, y_test:0\n",
      "y_prediction:0.3347883373256937, y_test:0\n",
      "y_prediction:0.5648537432161467, y_test:1\n",
      "y_prediction:0.31776428990725947, y_test:1\n",
      "y_prediction:0.7438536084070413, y_test:1\n",
      "y_prediction:0.6474365032847018, y_test:0\n",
      "y_prediction:0.3248243464994096, y_test:0\n",
      "y_prediction:0.5940445777109067, y_test:1\n",
      "y_prediction:0.8495131336263055, y_test:1\n",
      "y_prediction:0.6130755126046217, y_test:1\n",
      "y_prediction:0.15865284478024821, y_test:0\n",
      "y_prediction:-0.08751840767056296, y_test:0\n",
      "y_prediction:0.15078825871273427, y_test:1\n",
      "y_prediction:0.31036554375757275, y_test:1\n",
      "y_prediction:0.763589063945586, y_test:1\n",
      "y_prediction:0.4373706410041933, y_test:0\n",
      "y_prediction:0.7558073388673936, y_test:1\n",
      "y_prediction:0.5947148907256596, y_test:1\n",
      "y_prediction:0.6993469262312939, y_test:1\n",
      "y_prediction:0.25753697770656814, y_test:0\n",
      "y_prediction:0.23176212093870685, y_test:0\n",
      "y_prediction:0.38277767517249295, y_test:0\n",
      "y_prediction:0.36503268627337815, y_test:0\n",
      "y_prediction:0.3639723765804539, y_test:1\n",
      "y_prediction:0.39894578371099065, y_test:0\n",
      "y_prediction:0.466447044467734, y_test:0\n",
      "y_prediction:-0.08216498574599151, y_test:0\n",
      "y_prediction:0.5380326357800298, y_test:0\n",
      "y_prediction:0.0320464547317163, y_test:0\n",
      "y_prediction:0.12855129987640734, y_test:0\n",
      "y_prediction:0.12493929824407457, y_test:0\n",
      "y_prediction:0.21410373019802265, y_test:1\n",
      "y_prediction:-0.003550068002797113, y_test:0\n",
      "y_prediction:0.4110420401021653, y_test:0\n",
      "y_prediction:0.08199101895201166, y_test:0\n",
      "y_prediction:0.5957873529102433, y_test:1\n",
      "y_prediction:0.42259427022245166, y_test:1\n",
      "y_prediction:0.43020718575894645, y_test:1\n",
      "y_prediction:-0.03968795672986858, y_test:0\n"
     ]
    }
   ],
   "source": [
    "y_pred_list = []\n",
    "\n",
    "for pred,test in zip(y_pred,y_test):\n",
    "    y_pred_list.append(round(pred))\n",
    "    print(f\"y_prediction:{pred}, y_test:{test}\")"
   ]
  },
  {
   "cell_type": "code",
   "execution_count": 11,
   "id": "73cace67",
   "metadata": {},
   "outputs": [
    {
     "name": "stdout",
     "output_type": "stream",
     "text": [
      "0.23376623376623376\n"
     ]
    }
   ],
   "source": [
    "from sklearn.metrics import mean_squared_error \n",
    "print(mean_squared_error(y_test, y_pred_list))"
   ]
  },
  {
   "cell_type": "code",
   "execution_count": 12,
   "id": "f9a22aae",
   "metadata": {},
   "outputs": [
    {
     "name": "stdout",
     "output_type": "stream",
     "text": [
      "0.7662337662337663\n"
     ]
    }
   ],
   "source": [
    "from sklearn.metrics import accuracy_score\n",
    "\n",
    "print(accuracy_score(y_pred_list, y_test))"
   ]
  },
  {
   "cell_type": "markdown",
   "id": "f64343b2",
   "metadata": {},
   "source": [
    "### ►  Prediction"
   ]
  },
  {
   "cell_type": "code",
   "execution_count": 13,
   "id": "864db338",
   "metadata": {},
   "outputs": [
    {
     "name": "stdout",
     "output_type": "stream",
     "text": [
      "[0.59471489]\n",
      "The person is diabetic\n"
     ]
    },
    {
     "name": "stderr",
     "output_type": "stream",
     "text": [
      "C:\\Users\\Admin\\AppData\\Local\\Programs\\Python\\Python311\\Lib\\site-packages\\sklearn\\base.py:439: UserWarning: X does not have valid feature names, but LinearRegression was fitted with feature names\n",
      "  warnings.warn(\n"
     ]
    }
   ],
   "source": [
    "input_data = (5,166,72,19,175,25.8,0.587,51)\n",
    "\n",
    "prediction = model.predict([input_data])\n",
    "print(prediction)\n",
    "\n",
    "if (round(prediction[0]) == 0):\n",
    "    print('The person is not diabetic')\n",
    "else:\n",
    "    print('The person is diabetic')"
   ]
  },
  {
   "cell_type": "markdown",
   "id": "87a0813c",
   "metadata": {},
   "source": [
    "### Saving model:"
   ]
  },
  {
   "cell_type": "code",
   "execution_count": 14,
   "id": "fc5e56fd",
   "metadata": {},
   "outputs": [],
   "source": [
    "import joblib"
   ]
  },
  {
   "cell_type": "code",
   "execution_count": 15,
   "id": "7b22cbe6",
   "metadata": {},
   "outputs": [
    {
     "data": {
      "text/plain": [
       "['diabetes_model-2.joblib']"
      ]
     },
     "execution_count": 15,
     "metadata": {},
     "output_type": "execute_result"
    }
   ],
   "source": [
    "joblib.dump(model, 'diabetes_model.joblib')"
   ]
  },
  {
   "cell_type": "code",
   "execution_count": 16,
   "id": "8327aa69",
   "metadata": {},
   "outputs": [],
   "source": [
    "dm = joblib.load('diabetes_model.joblib')"
   ]
  },
  {
   "cell_type": "code",
   "execution_count": 17,
   "id": "fc066fb9",
   "metadata": {},
   "outputs": [
    {
     "name": "stdout",
     "output_type": "stream",
     "text": [
      "[0.59471489]\n",
      "The person is diabetic\n"
     ]
    },
    {
     "name": "stderr",
     "output_type": "stream",
     "text": [
      "C:\\Users\\Admin\\AppData\\Local\\Programs\\Python\\Python311\\Lib\\site-packages\\sklearn\\base.py:439: UserWarning: X does not have valid feature names, but LinearRegression was fitted with feature names\n",
      "  warnings.warn(\n"
     ]
    }
   ],
   "source": [
    "input = (5,166,72,19,175,25.8,0.587,51)\n",
    "\n",
    "dm_pred = dm.predict([input])\n",
    "print(dm_pred)\n",
    "\n",
    "if (round(dm_pred[0]) == 0):\n",
    "    print('The person is not diabetic')\n",
    "else:\n",
    "    print('The person is diabetic')"
   ]
  },
  {
   "cell_type": "code",
   "execution_count": null,
   "id": "3a32da35",
   "metadata": {},
   "outputs": [],
   "source": []
  }
 ],
 "metadata": {
  "kernelspec": {
   "display_name": "Python 3 (ipykernel)",
   "language": "python",
   "name": "python3"
  },
  "language_info": {
   "codemirror_mode": {
    "name": "ipython",
    "version": 3
   },
   "file_extension": ".py",
   "mimetype": "text/x-python",
   "name": "python",
   "nbconvert_exporter": "python",
   "pygments_lexer": "ipython3",
   "version": "3.11.3"
  }
 },
 "nbformat": 4,
 "nbformat_minor": 5
}
